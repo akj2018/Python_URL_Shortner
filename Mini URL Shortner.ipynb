{
 "cells": [
  {
   "cell_type": "markdown",
   "id": "3d659840",
   "metadata": {},
   "source": [
    "<h2>Url Shortner</h2>"
   ]
  },
  {
   "cell_type": "markdown",
   "id": "b01e5131",
   "metadata": {},
   "source": [
    "<img src=\"shortner.jpeg\" width=500 align=\"left\">"
   ]
  },
  {
   "cell_type": "markdown",
   "id": "d48a8a6e",
   "metadata": {},
   "source": [
    "Websites like bit.ly shorten the original long URL and redirects to the original long URL\n",
    "\n",
    "Usage: Don't have to remember long URLs"
   ]
  },
  {
   "cell_type": "markdown",
   "id": "2b9b1f84",
   "metadata": {},
   "source": [
    "Working:\n",
    "    \n",
    "    1. Client type the shortened URL in the address bar of the browser (bit.ly/short_url)\n",
    "    2. Browser forwards the request to the bit.ly server\n",
    "    3. bit.ly server checks the database for short_url and fetches the associated long_url\n",
    "    4. bit.ly do not returns long_url but redirects to the orginal long_url"
   ]
  },
  {
   "cell_type": "markdown",
   "id": "73bd8b1a",
   "metadata": {},
   "source": [
    "<h3>Version 01</h3>\n",
    "\n",
    "<ul>\n",
    "    <li> Random length (4-6) short url for the given long url</li>\n",
    "    <li> Character set should include (a-z)</li>\n",
    "    <li> Dictionary as a database to replicate backend (key = short URL and value = Long URL)</li>\n",
    "    <li> Short urls should be unique</li>\n",
    "</ul>\n",
    "\n",
    "Return the final shortened string as : \"akj.ly\" + \"/\" + short_url"
   ]
  },
  {
   "cell_type": "code",
   "execution_count": 10,
   "id": "65bf0bff",
   "metadata": {},
   "outputs": [],
   "source": [
    "import random\n",
    "import string"
   ]
  },
  {
   "cell_type": "code",
   "execution_count": 22,
   "id": "a0201983",
   "metadata": {},
   "outputs": [],
   "source": [
    "DB = {}\n",
    "\n",
    "char_set = string.ascii_lowercase"
   ]
  },
  {
   "cell_type": "code",
   "execution_count": 23,
   "id": "e9ee39b2",
   "metadata": {},
   "outputs": [],
   "source": [
    "def get_short_url(long_url):\n",
    "    \n",
    "    \"\"\"\n",
    "        Input: long url string\n",
    "        Output: Returns shortened url of length (4-6)\n",
    "    \"\"\"\n",
    "    \n",
    "    length = random.randint(4,6)\n",
    "    \n",
    "    short_url = [random.choice(char_set) for i in range(length)]\n",
    "    short_url = \"\".join(short_url)\n",
    "    \n",
    "    if short_url in DB:\n",
    "        return get_short_url(long_url)\n",
    "    else :\n",
    "        DB[short_url] = long_url\n",
    "        return \"akj.ly/\" + short_url"
   ]
  },
  {
   "cell_type": "code",
   "execution_count": 31,
   "id": "51f35116",
   "metadata": {},
   "outputs": [
    {
     "data": {
      "text/plain": [
       "'akj.ly/nrkk'"
      ]
     },
     "execution_count": 31,
     "metadata": {},
     "output_type": "execute_result"
    }
   ],
   "source": [
    "get_short_url(\"https://www.google.com\")"
   ]
  },
  {
   "cell_type": "code",
   "execution_count": 32,
   "id": "a8f73095",
   "metadata": {},
   "outputs": [
    {
     "data": {
      "text/plain": [
       "{'zpbid': 'https://www.facebook.com', 'nrkk': 'https://www.google.com'}"
      ]
     },
     "execution_count": 32,
     "metadata": {},
     "output_type": "execute_result"
    }
   ],
   "source": [
    "DB"
   ]
  },
  {
   "cell_type": "code",
   "execution_count": 28,
   "id": "e4d572d9",
   "metadata": {},
   "outputs": [],
   "source": [
    "def get_long_url(short_url):\n",
    "    \n",
    "    \"\"\"\n",
    "        Input: String of short_url\n",
    "        Output: Returns matching long_url if exists, otherwise Error\n",
    "    \"\"\"\n",
    "    \n",
    "    # \"akj.ly/short_url_key\" -> short_url_key\n",
    "    \n",
    "    short_url_key = short_url.split(\"/\")[-1]\n",
    "    \n",
    "    if short_url_key in DB:\n",
    "        return DB[short_url_key]\n",
    "    else:\n",
    "        return \"Short URL does not exists\""
   ]
  },
  {
   "cell_type": "code",
   "execution_count": 34,
   "id": "7d7b2b4b",
   "metadata": {},
   "outputs": [
    {
     "data": {
      "text/plain": [
       "'Short URL does not exists'"
      ]
     },
     "execution_count": 34,
     "metadata": {},
     "output_type": "execute_result"
    }
   ],
   "source": [
    "get_long_url(\"akj.ly/nrkkr\")"
   ]
  },
  {
   "cell_type": "markdown",
   "id": "5f289f85",
   "metadata": {},
   "source": [
    "<h3>Version 02</h3>\n",
    "\n",
    "<ul>\n",
    "    <li> Random length (4-6) short url for the given long url</li>\n",
    "    <li> Character set should include <b> (a-z) and (0-9) </b> </li>\n",
    "    <li> Dictionary as a database to replicate backend (key = short URL and value = Long URL)</li>\n",
    "    <li> Short urls should be unique</li>\n",
    "</ul>\n",
    "\n",
    "Return the final shortened string as : \"akj.ly\" + \"/\" + short_url"
   ]
  },
  {
   "cell_type": "code",
   "execution_count": 35,
   "id": "f4fb5368",
   "metadata": {},
   "outputs": [],
   "source": [
    "DB = {}\n",
    "\n",
    "char_set = string.ascii_lowercase + string.digits"
   ]
  },
  {
   "cell_type": "code",
   "execution_count": 36,
   "id": "56ac2833",
   "metadata": {},
   "outputs": [],
   "source": [
    "def get_short_url(long_url):\n",
    "    \n",
    "    \"\"\"\n",
    "        Input: long url string\n",
    "        Output: Returns shortened url of length (4-6)\n",
    "    \"\"\"\n",
    "    \n",
    "    length = random.randint(4,6)\n",
    "    \n",
    "    short_url = [random.choice(char_set) for i in range(length)]\n",
    "    short_url = \"\".join(short_url)\n",
    "    \n",
    "    if short_url in DB:\n",
    "        return get_short_url(long_url)\n",
    "    else :\n",
    "        DB[short_url] = long_url\n",
    "        return \"akj.ly/\" + short_url"
   ]
  },
  {
   "cell_type": "code",
   "execution_count": 37,
   "id": "cb7dcbe4",
   "metadata": {},
   "outputs": [
    {
     "data": {
      "text/plain": [
       "'akj.ly/1bk4h'"
      ]
     },
     "execution_count": 37,
     "metadata": {},
     "output_type": "execute_result"
    }
   ],
   "source": [
    "get_short_url(\"https://www.google.com\")"
   ]
  },
  {
   "cell_type": "code",
   "execution_count": 38,
   "id": "65de4f61",
   "metadata": {},
   "outputs": [
    {
     "data": {
      "text/plain": [
       "{'1bk4h': 'https://www.google.com'}"
      ]
     },
     "execution_count": 38,
     "metadata": {},
     "output_type": "execute_result"
    }
   ],
   "source": [
    "DB"
   ]
  },
  {
   "cell_type": "code",
   "execution_count": 39,
   "id": "b69dc2a4",
   "metadata": {},
   "outputs": [
    {
     "data": {
      "text/plain": [
       "'https://www.google.com'"
      ]
     },
     "execution_count": 39,
     "metadata": {},
     "output_type": "execute_result"
    }
   ],
   "source": [
    "get_long_url(\"akj.ly/1bk4h\")"
   ]
  },
  {
   "cell_type": "markdown",
   "id": "5cc114de",
   "metadata": {},
   "source": [
    "<h3>Version 03</h3>\n",
    "\n",
    "Shortend urls in version 02 were random characters. This version will generate custom short URLs (optional)\n",
    "\n",
    "<ul>\n",
    "    <li> <b>Pass a custom string </b> to be used as short url or use a system generated random string of length (4-6) </li>\n",
    "    <li> Character set should include (a-z) and (0-9)</li>\n",
    "    <li> Dictionary as a database to replicate backend (key = short URL and value = Long URL)</li>\n",
    "    <li> Short urls should be unique</li>\n",
    "</ul>\n",
    "\n",
    "Return the final shortened string as : \"akj.ly\" + \"/\" + short_url"
   ]
  },
  {
   "cell_type": "code",
   "execution_count": 52,
   "id": "9d29449d",
   "metadata": {},
   "outputs": [],
   "source": [
    "DB = {}\n",
    "\n",
    "char_set = string.ascii_lowercase"
   ]
  },
  {
   "cell_type": "code",
   "execution_count": 56,
   "id": "a023314a",
   "metadata": {},
   "outputs": [],
   "source": [
    "def get_short_url(long_url, custom_string = None):\n",
    "    \n",
    "    \"\"\"\n",
    "        Input: long url string\n",
    "        Output: Returns shortened url of length (4-6)\n",
    "    \"\"\"\n",
    "    \n",
    "    short_url = \"\"\n",
    "    \n",
    "    if(custom_string == None):\n",
    "        while(short_url == \"\" or short_url in DB):\n",
    "            length = random.randint(4,6)\n",
    "            short_url = [random.choice(char_set) for i in range(length)]\n",
    "            short_url = \"\".join(short_url)\n",
    "    else :\n",
    "        if custom_string in DB:\n",
    "            return \"Short URL already exsists\"\n",
    "        else :\n",
    "            short_url = custom_string\n",
    "\n",
    "    DB[short_url] = long_url\n",
    "    return \"akj.ly/\" + short_url"
   ]
  },
  {
   "cell_type": "code",
   "execution_count": 57,
   "id": "a694fafc",
   "metadata": {},
   "outputs": [
    {
     "data": {
      "text/plain": [
       "'Short URL already exsists'"
      ]
     },
     "execution_count": 57,
     "metadata": {},
     "output_type": "execute_result"
    }
   ],
   "source": [
    "get_short_url(\"https://www.google.com\",\"google\")"
   ]
  },
  {
   "cell_type": "code",
   "execution_count": 58,
   "id": "a1751e54",
   "metadata": {},
   "outputs": [
    {
     "data": {
      "text/plain": [
       "{'google': 'https://www.google.com'}"
      ]
     },
     "execution_count": 58,
     "metadata": {},
     "output_type": "execute_result"
    }
   ],
   "source": [
    "DB"
   ]
  },
  {
   "cell_type": "code",
   "execution_count": 59,
   "id": "21cb1632",
   "metadata": {},
   "outputs": [
    {
     "data": {
      "text/plain": [
       "'https://www.google.com'"
      ]
     },
     "execution_count": 59,
     "metadata": {},
     "output_type": "execute_result"
    }
   ],
   "source": [
    "get_long_url(\"google\")"
   ]
  },
  {
   "cell_type": "code",
   "execution_count": 60,
   "id": "55faacd4",
   "metadata": {},
   "outputs": [
    {
     "data": {
      "text/plain": [
       "'Short URL already exsists'"
      ]
     },
     "execution_count": 60,
     "metadata": {},
     "output_type": "execute_result"
    }
   ],
   "source": [
    "get_short_url(\"www.google.com\", \"google\")"
   ]
  },
  {
   "cell_type": "code",
   "execution_count": 61,
   "id": "794dfe8f",
   "metadata": {},
   "outputs": [
    {
     "data": {
      "text/plain": [
       "{'google': 'https://www.google.com'}"
      ]
     },
     "execution_count": 61,
     "metadata": {},
     "output_type": "execute_result"
    }
   ],
   "source": [
    "DB"
   ]
  },
  {
   "cell_type": "markdown",
   "id": "ddf05e6e",
   "metadata": {},
   "source": [
    "<h3>Version 04</h3>\n",
    "\n",
    "Shortend urls in version 03 cannot be updated once set. In this version, we can update the long_url mapped to short url"
   ]
  },
  {
   "cell_type": "code",
   "execution_count": 66,
   "id": "9ae85152",
   "metadata": {},
   "outputs": [],
   "source": [
    "def update_short_url(short_url, new_long_url):\n",
    "    \n",
    "    \"\"\"\n",
    "        Input: short url and corrosponding new long url\n",
    "        Output: Update status\n",
    "    \"\"\"\n",
    "    \n",
    "    # akj.ly/short_url -> short_url\n",
    "    \n",
    "    short_url_key = short_url.split(\"/\")[-1]\n",
    "    \n",
    "    if short_url_key in DB:\n",
    "        \n",
    "        DB[short_url_key] = new_long_url\n",
    "        \n",
    "        return \"Successfully Updated short url\"\n",
    "        \n",
    "    else: \n",
    "        \n",
    "        return \"Short URL does not exists\""
   ]
  },
  {
   "cell_type": "code",
   "execution_count": 64,
   "id": "a96e44e3",
   "metadata": {},
   "outputs": [
    {
     "data": {
      "text/plain": [
       "{'google': 'https://www.google.com'}"
      ]
     },
     "execution_count": 64,
     "metadata": {},
     "output_type": "execute_result"
    }
   ],
   "source": [
    "DB"
   ]
  },
  {
   "cell_type": "code",
   "execution_count": 67,
   "id": "f7b4e9b0",
   "metadata": {},
   "outputs": [
    {
     "data": {
      "text/plain": [
       "'Successfully Updated short url'"
      ]
     },
     "execution_count": 67,
     "metadata": {},
     "output_type": "execute_result"
    }
   ],
   "source": [
    "update_short_url(\"akj.ly/google\",\"www.google.com\")"
   ]
  },
  {
   "cell_type": "code",
   "execution_count": 68,
   "id": "7eff0f07",
   "metadata": {},
   "outputs": [
    {
     "data": {
      "text/plain": [
       "{'google': 'www.google.com'}"
      ]
     },
     "execution_count": 68,
     "metadata": {},
     "output_type": "execute_result"
    }
   ],
   "source": [
    "DB"
   ]
  },
  {
   "cell_type": "code",
   "execution_count": null,
   "id": "1f30afbb",
   "metadata": {},
   "outputs": [],
   "source": []
  }
 ],
 "metadata": {
  "kernelspec": {
   "display_name": "Python 3",
   "language": "python",
   "name": "python3"
  },
  "language_info": {
   "codemirror_mode": {
    "name": "ipython",
    "version": 3
   },
   "file_extension": ".py",
   "mimetype": "text/x-python",
   "name": "python",
   "nbconvert_exporter": "python",
   "pygments_lexer": "ipython3",
   "version": "3.9.5"
  }
 },
 "nbformat": 4,
 "nbformat_minor": 5
}
